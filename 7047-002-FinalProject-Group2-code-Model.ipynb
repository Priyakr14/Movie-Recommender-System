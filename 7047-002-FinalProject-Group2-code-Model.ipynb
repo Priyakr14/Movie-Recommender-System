{
 "cells": [
  {
   "cell_type": "code",
   "execution_count": 1,
   "metadata": {},
   "outputs": [],
   "source": [
    "import pandas as pd\n",
    "import numpy as np\n",
    "import matplotlib.pyplot as plt"
   ]
  },
  {
   "cell_type": "code",
   "execution_count": 2,
   "metadata": {},
   "outputs": [],
   "source": [
    "import os\n",
    "\n",
    "# os.chdir('D:/Desktop/Flex 4/7074 Data Mining 2/Final Project/ml-latest-small/')\n",
    "os.chdir('C:/UCin/Sem 2/Data Mining II/Project/ml-latest-small')"
   ]
  },
  {
   "cell_type": "code",
   "execution_count": 3,
   "metadata": {},
   "outputs": [
    {
     "data": {
      "text/plain": [
       "<function nt.getcwd()>"
      ]
     },
     "execution_count": 3,
     "metadata": {},
     "output_type": "execute_result"
    }
   ],
   "source": [
    "os.getcwd"
   ]
  },
  {
   "cell_type": "code",
   "execution_count": 4,
   "metadata": {},
   "outputs": [
    {
     "data": {
      "text/html": [
       "<div>\n",
       "<style scoped>\n",
       "    .dataframe tbody tr th:only-of-type {\n",
       "        vertical-align: middle;\n",
       "    }\n",
       "\n",
       "    .dataframe tbody tr th {\n",
       "        vertical-align: top;\n",
       "    }\n",
       "\n",
       "    .dataframe thead th {\n",
       "        text-align: right;\n",
       "    }\n",
       "</style>\n",
       "<table border=\"1\" class=\"dataframe\">\n",
       "  <thead>\n",
       "    <tr style=\"text-align: right;\">\n",
       "      <th></th>\n",
       "      <th>movieId</th>\n",
       "      <th>title</th>\n",
       "      <th>genres</th>\n",
       "    </tr>\n",
       "  </thead>\n",
       "  <tbody>\n",
       "    <tr>\n",
       "      <td>0</td>\n",
       "      <td>1</td>\n",
       "      <td>Toy Story (1995)</td>\n",
       "      <td>Adventure|Animation|Children|Comedy|Fantasy</td>\n",
       "    </tr>\n",
       "    <tr>\n",
       "      <td>1</td>\n",
       "      <td>2</td>\n",
       "      <td>Jumanji (1995)</td>\n",
       "      <td>Adventure|Children|Fantasy</td>\n",
       "    </tr>\n",
       "    <tr>\n",
       "      <td>2</td>\n",
       "      <td>3</td>\n",
       "      <td>Grumpier Old Men (1995)</td>\n",
       "      <td>Comedy|Romance</td>\n",
       "    </tr>\n",
       "    <tr>\n",
       "      <td>3</td>\n",
       "      <td>4</td>\n",
       "      <td>Waiting to Exhale (1995)</td>\n",
       "      <td>Comedy|Drama|Romance</td>\n",
       "    </tr>\n",
       "    <tr>\n",
       "      <td>4</td>\n",
       "      <td>5</td>\n",
       "      <td>Father of the Bride Part II (1995)</td>\n",
       "      <td>Comedy</td>\n",
       "    </tr>\n",
       "    <tr>\n",
       "      <td>...</td>\n",
       "      <td>...</td>\n",
       "      <td>...</td>\n",
       "      <td>...</td>\n",
       "    </tr>\n",
       "    <tr>\n",
       "      <td>9737</td>\n",
       "      <td>193581</td>\n",
       "      <td>Black Butler: Book of the Atlantic (2017)</td>\n",
       "      <td>Action|Animation|Comedy|Fantasy</td>\n",
       "    </tr>\n",
       "    <tr>\n",
       "      <td>9738</td>\n",
       "      <td>193583</td>\n",
       "      <td>No Game No Life: Zero (2017)</td>\n",
       "      <td>Animation|Comedy|Fantasy</td>\n",
       "    </tr>\n",
       "    <tr>\n",
       "      <td>9739</td>\n",
       "      <td>193585</td>\n",
       "      <td>Flint (2017)</td>\n",
       "      <td>Drama</td>\n",
       "    </tr>\n",
       "    <tr>\n",
       "      <td>9740</td>\n",
       "      <td>193587</td>\n",
       "      <td>Bungo Stray Dogs: Dead Apple (2018)</td>\n",
       "      <td>Action|Animation</td>\n",
       "    </tr>\n",
       "    <tr>\n",
       "      <td>9741</td>\n",
       "      <td>193609</td>\n",
       "      <td>Andrew Dice Clay: Dice Rules (1991)</td>\n",
       "      <td>Comedy</td>\n",
       "    </tr>\n",
       "  </tbody>\n",
       "</table>\n",
       "<p>9742 rows × 3 columns</p>\n",
       "</div>"
      ],
      "text/plain": [
       "      movieId                                      title  \\\n",
       "0           1                           Toy Story (1995)   \n",
       "1           2                             Jumanji (1995)   \n",
       "2           3                    Grumpier Old Men (1995)   \n",
       "3           4                   Waiting to Exhale (1995)   \n",
       "4           5         Father of the Bride Part II (1995)   \n",
       "...       ...                                        ...   \n",
       "9737   193581  Black Butler: Book of the Atlantic (2017)   \n",
       "9738   193583               No Game No Life: Zero (2017)   \n",
       "9739   193585                               Flint (2017)   \n",
       "9740   193587        Bungo Stray Dogs: Dead Apple (2018)   \n",
       "9741   193609        Andrew Dice Clay: Dice Rules (1991)   \n",
       "\n",
       "                                           genres  \n",
       "0     Adventure|Animation|Children|Comedy|Fantasy  \n",
       "1                      Adventure|Children|Fantasy  \n",
       "2                                  Comedy|Romance  \n",
       "3                            Comedy|Drama|Romance  \n",
       "4                                          Comedy  \n",
       "...                                           ...  \n",
       "9737              Action|Animation|Comedy|Fantasy  \n",
       "9738                     Animation|Comedy|Fantasy  \n",
       "9739                                        Drama  \n",
       "9740                             Action|Animation  \n",
       "9741                                       Comedy  \n",
       "\n",
       "[9742 rows x 3 columns]"
      ]
     },
     "execution_count": 4,
     "metadata": {},
     "output_type": "execute_result"
    }
   ],
   "source": [
    "pd.read_csv('movies.csv')"
   ]
  },
  {
   "cell_type": "code",
   "execution_count": 5,
   "metadata": {},
   "outputs": [],
   "source": [
    "# Reading ratings file\n",
    "# Ignore the timestamp column\n",
    "ratings = pd.read_csv('ratings.csv', usecols=['rating','userId', 'movieId'])\n",
    "\n",
    "# Reading users file\n",
    "#users = pd.read_csv('users.csv', sep='\\t', encoding='latin-1', usecols=['user_id', 'gender', 'zipcode', 'age_desc', 'occ_desc'])\n",
    "\n",
    "# Reading movies file\n",
    "movies = pd.read_csv('movies.csv', usecols=['movieId', 'title', 'genres'])"
   ]
  },
  {
   "cell_type": "code",
   "execution_count": 6,
   "metadata": {},
   "outputs": [
    {
     "data": {
      "text/html": [
       "<div>\n",
       "<style scoped>\n",
       "    .dataframe tbody tr th:only-of-type {\n",
       "        vertical-align: middle;\n",
       "    }\n",
       "\n",
       "    .dataframe tbody tr th {\n",
       "        vertical-align: top;\n",
       "    }\n",
       "\n",
       "    .dataframe thead th {\n",
       "        text-align: right;\n",
       "    }\n",
       "</style>\n",
       "<table border=\"1\" class=\"dataframe\">\n",
       "  <thead>\n",
       "    <tr style=\"text-align: right;\">\n",
       "      <th></th>\n",
       "      <th>userId</th>\n",
       "      <th>movieId</th>\n",
       "      <th>rating</th>\n",
       "    </tr>\n",
       "  </thead>\n",
       "  <tbody>\n",
       "    <tr>\n",
       "      <td>0</td>\n",
       "      <td>1</td>\n",
       "      <td>1</td>\n",
       "      <td>4.0</td>\n",
       "    </tr>\n",
       "    <tr>\n",
       "      <td>1</td>\n",
       "      <td>1</td>\n",
       "      <td>3</td>\n",
       "      <td>4.0</td>\n",
       "    </tr>\n",
       "    <tr>\n",
       "      <td>2</td>\n",
       "      <td>1</td>\n",
       "      <td>6</td>\n",
       "      <td>4.0</td>\n",
       "    </tr>\n",
       "    <tr>\n",
       "      <td>3</td>\n",
       "      <td>1</td>\n",
       "      <td>47</td>\n",
       "      <td>5.0</td>\n",
       "    </tr>\n",
       "    <tr>\n",
       "      <td>4</td>\n",
       "      <td>1</td>\n",
       "      <td>50</td>\n",
       "      <td>5.0</td>\n",
       "    </tr>\n",
       "  </tbody>\n",
       "</table>\n",
       "</div>"
      ],
      "text/plain": [
       "   userId  movieId  rating\n",
       "0       1        1     4.0\n",
       "1       1        3     4.0\n",
       "2       1        6     4.0\n",
       "3       1       47     5.0\n",
       "4       1       50     5.0"
      ]
     },
     "execution_count": 6,
     "metadata": {},
     "output_type": "execute_result"
    }
   ],
   "source": [
    "ratings.head()"
   ]
  },
  {
   "cell_type": "code",
   "execution_count": 7,
   "metadata": {},
   "outputs": [
    {
     "name": "stdout",
     "output_type": "stream",
     "text": [
      "<class 'pandas.core.frame.DataFrame'>\n",
      "RangeIndex: 100836 entries, 0 to 100835\n",
      "Data columns (total 3 columns):\n",
      "userId     100836 non-null int64\n",
      "movieId    100836 non-null int64\n",
      "rating     100836 non-null float64\n",
      "dtypes: float64(1), int64(2)\n",
      "memory usage: 2.3 MB\n"
     ]
    }
   ],
   "source": [
    "ratings.info()"
   ]
  },
  {
   "cell_type": "code",
   "execution_count": 8,
   "metadata": {},
   "outputs": [
    {
     "data": {
      "text/html": [
       "<div>\n",
       "<style scoped>\n",
       "    .dataframe tbody tr th:only-of-type {\n",
       "        vertical-align: middle;\n",
       "    }\n",
       "\n",
       "    .dataframe tbody tr th {\n",
       "        vertical-align: top;\n",
       "    }\n",
       "\n",
       "    .dataframe thead th {\n",
       "        text-align: right;\n",
       "    }\n",
       "</style>\n",
       "<table border=\"1\" class=\"dataframe\">\n",
       "  <thead>\n",
       "    <tr style=\"text-align: right;\">\n",
       "      <th></th>\n",
       "      <th>movieId</th>\n",
       "      <th>title</th>\n",
       "      <th>genres</th>\n",
       "    </tr>\n",
       "  </thead>\n",
       "  <tbody>\n",
       "    <tr>\n",
       "      <td>0</td>\n",
       "      <td>1</td>\n",
       "      <td>Toy Story (1995)</td>\n",
       "      <td>Adventure|Animation|Children|Comedy|Fantasy</td>\n",
       "    </tr>\n",
       "    <tr>\n",
       "      <td>1</td>\n",
       "      <td>2</td>\n",
       "      <td>Jumanji (1995)</td>\n",
       "      <td>Adventure|Children|Fantasy</td>\n",
       "    </tr>\n",
       "    <tr>\n",
       "      <td>2</td>\n",
       "      <td>3</td>\n",
       "      <td>Grumpier Old Men (1995)</td>\n",
       "      <td>Comedy|Romance</td>\n",
       "    </tr>\n",
       "    <tr>\n",
       "      <td>3</td>\n",
       "      <td>4</td>\n",
       "      <td>Waiting to Exhale (1995)</td>\n",
       "      <td>Comedy|Drama|Romance</td>\n",
       "    </tr>\n",
       "    <tr>\n",
       "      <td>4</td>\n",
       "      <td>5</td>\n",
       "      <td>Father of the Bride Part II (1995)</td>\n",
       "      <td>Comedy</td>\n",
       "    </tr>\n",
       "  </tbody>\n",
       "</table>\n",
       "</div>"
      ],
      "text/plain": [
       "   movieId                               title  \\\n",
       "0        1                    Toy Story (1995)   \n",
       "1        2                      Jumanji (1995)   \n",
       "2        3             Grumpier Old Men (1995)   \n",
       "3        4            Waiting to Exhale (1995)   \n",
       "4        5  Father of the Bride Part II (1995)   \n",
       "\n",
       "                                        genres  \n",
       "0  Adventure|Animation|Children|Comedy|Fantasy  \n",
       "1                   Adventure|Children|Fantasy  \n",
       "2                               Comedy|Romance  \n",
       "3                         Comedy|Drama|Romance  \n",
       "4                                       Comedy  "
      ]
     },
     "execution_count": 8,
     "metadata": {},
     "output_type": "execute_result"
    }
   ],
   "source": [
    "movies.head()"
   ]
  },
  {
   "cell_type": "code",
   "execution_count": 9,
   "metadata": {},
   "outputs": [
    {
     "name": "stdout",
     "output_type": "stream",
     "text": [
      "<class 'pandas.core.frame.DataFrame'>\n",
      "RangeIndex: 9742 entries, 0 to 9741\n",
      "Data columns (total 3 columns):\n",
      "movieId    9742 non-null int64\n",
      "title      9742 non-null object\n",
      "genres     9742 non-null object\n",
      "dtypes: int64(1), object(2)\n",
      "memory usage: 228.5+ KB\n"
     ]
    }
   ],
   "source": [
    "movies.info()"
   ]
  },
  {
   "cell_type": "code",
   "execution_count": 10,
   "metadata": {},
   "outputs": [
    {
     "data": {
      "text/html": [
       "<div>\n",
       "<style scoped>\n",
       "    .dataframe tbody tr th:only-of-type {\n",
       "        vertical-align: middle;\n",
       "    }\n",
       "\n",
       "    .dataframe tbody tr th {\n",
       "        vertical-align: top;\n",
       "    }\n",
       "\n",
       "    .dataframe thead th {\n",
       "        text-align: right;\n",
       "    }\n",
       "</style>\n",
       "<table border=\"1\" class=\"dataframe\">\n",
       "  <thead>\n",
       "    <tr style=\"text-align: right;\">\n",
       "      <th></th>\n",
       "      <th>movieId</th>\n",
       "      <th>title</th>\n",
       "      <th>genres</th>\n",
       "    </tr>\n",
       "  </thead>\n",
       "  <tbody>\n",
       "    <tr>\n",
       "      <td>0</td>\n",
       "      <td>1</td>\n",
       "      <td>Toy Story (1995)</td>\n",
       "      <td>['Adventure', 'Animation', 'Children', 'Comedy...</td>\n",
       "    </tr>\n",
       "    <tr>\n",
       "      <td>1</td>\n",
       "      <td>2</td>\n",
       "      <td>Jumanji (1995)</td>\n",
       "      <td>['Adventure', 'Children', 'Fantasy']</td>\n",
       "    </tr>\n",
       "    <tr>\n",
       "      <td>2</td>\n",
       "      <td>3</td>\n",
       "      <td>Grumpier Old Men (1995)</td>\n",
       "      <td>['Comedy', 'Romance']</td>\n",
       "    </tr>\n",
       "    <tr>\n",
       "      <td>3</td>\n",
       "      <td>4</td>\n",
       "      <td>Waiting to Exhale (1995)</td>\n",
       "      <td>['Comedy', 'Drama', 'Romance']</td>\n",
       "    </tr>\n",
       "    <tr>\n",
       "      <td>4</td>\n",
       "      <td>5</td>\n",
       "      <td>Father of the Bride Part II (1995)</td>\n",
       "      <td>['Comedy']</td>\n",
       "    </tr>\n",
       "  </tbody>\n",
       "</table>\n",
       "</div>"
      ],
      "text/plain": [
       "   movieId                               title  \\\n",
       "0        1                    Toy Story (1995)   \n",
       "1        2                      Jumanji (1995)   \n",
       "2        3             Grumpier Old Men (1995)   \n",
       "3        4            Waiting to Exhale (1995)   \n",
       "4        5  Father of the Bride Part II (1995)   \n",
       "\n",
       "                                              genres  \n",
       "0  ['Adventure', 'Animation', 'Children', 'Comedy...  \n",
       "1               ['Adventure', 'Children', 'Fantasy']  \n",
       "2                              ['Comedy', 'Romance']  \n",
       "3                     ['Comedy', 'Drama', 'Romance']  \n",
       "4                                         ['Comedy']  "
      ]
     },
     "execution_count": 10,
     "metadata": {},
     "output_type": "execute_result"
    }
   ],
   "source": [
    "# Break up the big genre string into a string array\n",
    "movies['genres'] = movies['genres'].str.split('|')\n",
    "# Convert genres to string value\n",
    "movies['genres'] = movies['genres'].fillna(\"\").astype('str')\n",
    "movies.head()"
   ]
  },
  {
   "cell_type": "code",
   "execution_count": 11,
   "metadata": {},
   "outputs": [
    {
     "data": {
      "text/html": [
       "<div>\n",
       "<style scoped>\n",
       "    .dataframe tbody tr th:only-of-type {\n",
       "        vertical-align: middle;\n",
       "    }\n",
       "\n",
       "    .dataframe tbody tr th {\n",
       "        vertical-align: top;\n",
       "    }\n",
       "\n",
       "    .dataframe thead th {\n",
       "        text-align: right;\n",
       "    }\n",
       "</style>\n",
       "<table border=\"1\" class=\"dataframe\">\n",
       "  <thead>\n",
       "    <tr style=\"text-align: right;\">\n",
       "      <th></th>\n",
       "      <th>movieId</th>\n",
       "      <th>title</th>\n",
       "      <th>genres</th>\n",
       "      <th>release_year</th>\n",
       "    </tr>\n",
       "  </thead>\n",
       "  <tbody>\n",
       "    <tr>\n",
       "      <td>0</td>\n",
       "      <td>1</td>\n",
       "      <td>Toy Story (1995)</td>\n",
       "      <td>['Adventure', 'Animation', 'Children', 'Comedy...</td>\n",
       "      <td>(1995)</td>\n",
       "    </tr>\n",
       "    <tr>\n",
       "      <td>1</td>\n",
       "      <td>2</td>\n",
       "      <td>Jumanji (1995)</td>\n",
       "      <td>['Adventure', 'Children', 'Fantasy']</td>\n",
       "      <td>(1995)</td>\n",
       "    </tr>\n",
       "    <tr>\n",
       "      <td>2</td>\n",
       "      <td>3</td>\n",
       "      <td>Grumpier Old Men (1995)</td>\n",
       "      <td>['Comedy', 'Romance']</td>\n",
       "      <td>(1995)</td>\n",
       "    </tr>\n",
       "    <tr>\n",
       "      <td>3</td>\n",
       "      <td>4</td>\n",
       "      <td>Waiting to Exhale (1995)</td>\n",
       "      <td>['Comedy', 'Drama', 'Romance']</td>\n",
       "      <td>(1995)</td>\n",
       "    </tr>\n",
       "    <tr>\n",
       "      <td>4</td>\n",
       "      <td>5</td>\n",
       "      <td>Father of the Bride Part II (1995)</td>\n",
       "      <td>['Comedy']</td>\n",
       "      <td>(1995)</td>\n",
       "    </tr>\n",
       "  </tbody>\n",
       "</table>\n",
       "</div>"
      ],
      "text/plain": [
       "   movieId                               title  \\\n",
       "0        1                    Toy Story (1995)   \n",
       "1        2                      Jumanji (1995)   \n",
       "2        3             Grumpier Old Men (1995)   \n",
       "3        4            Waiting to Exhale (1995)   \n",
       "4        5  Father of the Bride Part II (1995)   \n",
       "\n",
       "                                              genres release_year  \n",
       "0  ['Adventure', 'Animation', 'Children', 'Comedy...       (1995)  \n",
       "1               ['Adventure', 'Children', 'Fantasy']       (1995)  \n",
       "2                              ['Comedy', 'Romance']       (1995)  \n",
       "3                     ['Comedy', 'Drama', 'Romance']       (1995)  \n",
       "4                                         ['Comedy']       (1995)  "
      ]
     },
     "execution_count": 11,
     "metadata": {},
     "output_type": "execute_result"
    }
   ],
   "source": [
    "movies['release_year'] = movies['title'].str[-6:]\n",
    "movies.head()"
   ]
  },
  {
   "cell_type": "code",
   "execution_count": 12,
   "metadata": {},
   "outputs": [
    {
     "data": {
      "text/html": [
       "<div>\n",
       "<style scoped>\n",
       "    .dataframe tbody tr th:only-of-type {\n",
       "        vertical-align: middle;\n",
       "    }\n",
       "\n",
       "    .dataframe tbody tr th {\n",
       "        vertical-align: top;\n",
       "    }\n",
       "\n",
       "    .dataframe thead th {\n",
       "        text-align: right;\n",
       "    }\n",
       "</style>\n",
       "<table border=\"1\" class=\"dataframe\">\n",
       "  <thead>\n",
       "    <tr style=\"text-align: right;\">\n",
       "      <th></th>\n",
       "      <th>movieId</th>\n",
       "      <th>title</th>\n",
       "      <th>genres</th>\n",
       "      <th>release_year</th>\n",
       "      <th>genres2</th>\n",
       "    </tr>\n",
       "  </thead>\n",
       "  <tbody>\n",
       "    <tr>\n",
       "      <td>0</td>\n",
       "      <td>1</td>\n",
       "      <td>Toy Story (1995)</td>\n",
       "      <td>['Adventure', 'Animation', 'Children', 'Comedy...</td>\n",
       "      <td>(1995)</td>\n",
       "      <td>['Adventure', 'Animation', 'Children', 'Comedy...</td>\n",
       "    </tr>\n",
       "    <tr>\n",
       "      <td>1</td>\n",
       "      <td>2</td>\n",
       "      <td>Jumanji (1995)</td>\n",
       "      <td>['Adventure', 'Children', 'Fantasy']</td>\n",
       "      <td>(1995)</td>\n",
       "      <td>['Adventure', 'Children', 'Fantasy'](1995)</td>\n",
       "    </tr>\n",
       "    <tr>\n",
       "      <td>2</td>\n",
       "      <td>3</td>\n",
       "      <td>Grumpier Old Men (1995)</td>\n",
       "      <td>['Comedy', 'Romance']</td>\n",
       "      <td>(1995)</td>\n",
       "      <td>['Comedy', 'Romance'](1995)</td>\n",
       "    </tr>\n",
       "    <tr>\n",
       "      <td>3</td>\n",
       "      <td>4</td>\n",
       "      <td>Waiting to Exhale (1995)</td>\n",
       "      <td>['Comedy', 'Drama', 'Romance']</td>\n",
       "      <td>(1995)</td>\n",
       "      <td>['Comedy', 'Drama', 'Romance'](1995)</td>\n",
       "    </tr>\n",
       "    <tr>\n",
       "      <td>4</td>\n",
       "      <td>5</td>\n",
       "      <td>Father of the Bride Part II (1995)</td>\n",
       "      <td>['Comedy']</td>\n",
       "      <td>(1995)</td>\n",
       "      <td>['Comedy'](1995)</td>\n",
       "    </tr>\n",
       "  </tbody>\n",
       "</table>\n",
       "</div>"
      ],
      "text/plain": [
       "   movieId                               title  \\\n",
       "0        1                    Toy Story (1995)   \n",
       "1        2                      Jumanji (1995)   \n",
       "2        3             Grumpier Old Men (1995)   \n",
       "3        4            Waiting to Exhale (1995)   \n",
       "4        5  Father of the Bride Part II (1995)   \n",
       "\n",
       "                                              genres release_year  \\\n",
       "0  ['Adventure', 'Animation', 'Children', 'Comedy...       (1995)   \n",
       "1               ['Adventure', 'Children', 'Fantasy']       (1995)   \n",
       "2                              ['Comedy', 'Romance']       (1995)   \n",
       "3                     ['Comedy', 'Drama', 'Romance']       (1995)   \n",
       "4                                         ['Comedy']       (1995)   \n",
       "\n",
       "                                             genres2  \n",
       "0  ['Adventure', 'Animation', 'Children', 'Comedy...  \n",
       "1         ['Adventure', 'Children', 'Fantasy'](1995)  \n",
       "2                        ['Comedy', 'Romance'](1995)  \n",
       "3               ['Comedy', 'Drama', 'Romance'](1995)  \n",
       "4                                   ['Comedy'](1995)  "
      ]
     },
     "execution_count": 12,
     "metadata": {},
     "output_type": "execute_result"
    }
   ],
   "source": [
    "#movies.apply(lambda x: [x['genres']] + list(x['release_year']), 1)\n",
    "#movies.genres.append(movies['release_year'])\n",
    "movies['genres2'] = movies['genres'] + list(movies['release_year'])\n",
    "movies.head()"
   ]
  },
  {
   "cell_type": "code",
   "execution_count": 13,
   "metadata": {},
   "outputs": [
    {
     "data": {
      "text/plain": [
       "0       ['Adventure', 'Animation', 'Children', 'Comedy...\n",
       "1                    ['Adventure', 'Children', 'Fantasy']\n",
       "2                                   ['Comedy', 'Romance']\n",
       "3                          ['Comedy', 'Drama', 'Romance']\n",
       "4                                              ['Comedy']\n",
       "                              ...                        \n",
       "9737         ['Action', 'Animation', 'Comedy', 'Fantasy']\n",
       "9738                   ['Animation', 'Comedy', 'Fantasy']\n",
       "9739                                            ['Drama']\n",
       "9740                              ['Action', 'Animation']\n",
       "9741                                           ['Comedy']\n",
       "Name: genres, Length: 9742, dtype: object"
      ]
     },
     "execution_count": 13,
     "metadata": {},
     "output_type": "execute_result"
    }
   ],
   "source": [
    "movies.genres"
   ]
  },
  {
   "cell_type": "markdown",
   "metadata": {},
   "source": [
    "### CONTENT BASED FILTERING\n",
    "-We have used the genre of a movie to recommend similar movies to a user <br>\n",
    "-Used Term frequency (TF) and Inverse Document Frequency (IDF) to identify the genres and release year of a given movie and assign a cosine similarity score to get Top 20 recommendations"
   ]
  },
  {
   "cell_type": "markdown",
   "metadata": {},
   "source": [
    "Code reference - https://github.com/khanhnamle1994/movielens/blob/master/Content_Based_and_Collaborative_Filtering_Models.ipynb"
   ]
  },
  {
   "cell_type": "markdown",
   "metadata": {},
   "source": [
    "__Use TfidfVectorizer function from scikit-learn, which transforms text to feature vectors that can be used as input to estimator.__"
   ]
  },
  {
   "cell_type": "code",
   "execution_count": 14,
   "metadata": {},
   "outputs": [
    {
     "data": {
      "text/plain": [
       "(9742, 1478)"
      ]
     },
     "execution_count": 14,
     "metadata": {},
     "output_type": "execute_result"
    }
   ],
   "source": [
    "from sklearn.feature_extraction.text import TfidfVectorizer\n",
    "tf = TfidfVectorizer(analyzer='word',ngram_range=(1, 2),min_df=0, stop_words='english')\n",
    "tfidf_matrix = tf.fit_transform(movies['genres2'])\n",
    "tfidf_matrix.shape"
   ]
  },
  {
   "cell_type": "markdown",
   "metadata": {},
   "source": [
    "__Ue the Cosine Similarity to calculate a numeric quantity that denotes the similarity between two movies. Since we have used the TF-IDF Vectorizer, calculating the Dot Product will directly give us the Cosine Similarity Score. Therefore, we will use sklearn's linear_kernel instead of cosine_similarities since it is much faster.__"
   ]
  },
  {
   "cell_type": "code",
   "execution_count": 15,
   "metadata": {},
   "outputs": [
    {
     "data": {
      "text/plain": [
       "array([[1.        , 0.60701112, 0.17872226, 0.16965875],\n",
       "       [0.60701112, 1.        , 0.16888819, 0.16032339],\n",
       "       [0.17872226, 0.16888819, 1.        , 0.76986467],\n",
       "       [0.16965875, 0.16032339, 0.76986467, 1.        ]])"
      ]
     },
     "execution_count": 15,
     "metadata": {},
     "output_type": "execute_result"
    }
   ],
   "source": [
    "from sklearn.metrics.pairwise import linear_kernel\n",
    "cosine_sim = linear_kernel(tfidf_matrix, tfidf_matrix)\n",
    "cosine_sim[:4, :4]"
   ]
  },
  {
   "cell_type": "markdown",
   "metadata": {},
   "source": [
    "__Write a function that returns the 20 most similar movies based on the cosine similarity score.__"
   ]
  },
  {
   "cell_type": "code",
   "execution_count": 16,
   "metadata": {},
   "outputs": [],
   "source": [
    "# Build a 1-dimensional array with movie titles\n",
    "titles = movies['title']\n",
    "indices = pd.Series(movies.index, index=movies['title'])\n",
    "\n",
    "# Function that get movie recommendations based on the cosine similarity score of movie genres\n",
    "def genre_recommendations(title):\n",
    "    idx = indices[title]\n",
    "    sim_scores = list(enumerate(cosine_sim[idx]))\n",
    "    sim_scores = sorted(sim_scores, key=lambda x: x[1], reverse=True)\n",
    "    sim_scores = sim_scores[1:21]\n",
    "    movie_indices = [i[0] for i in sim_scores]\n",
    "    return titles.iloc[movie_indices]"
   ]
  },
  {
   "cell_type": "markdown",
   "metadata": {},
   "source": [
    "__Test the recommendation for a movie__"
   ]
  },
  {
   "cell_type": "code",
   "execution_count": 17,
   "metadata": {},
   "outputs": [
    {
     "data": {
      "text/html": [
       "<div>\n",
       "<style scoped>\n",
       "    .dataframe tbody tr th:only-of-type {\n",
       "        vertical-align: middle;\n",
       "    }\n",
       "\n",
       "    .dataframe tbody tr th {\n",
       "        vertical-align: top;\n",
       "    }\n",
       "\n",
       "    .dataframe thead th {\n",
       "        text-align: right;\n",
       "    }\n",
       "</style>\n",
       "<table border=\"1\" class=\"dataframe\">\n",
       "  <thead>\n",
       "    <tr style=\"text-align: right;\">\n",
       "      <th></th>\n",
       "      <th>movieId</th>\n",
       "      <th>title</th>\n",
       "      <th>genres</th>\n",
       "      <th>release_year</th>\n",
       "      <th>genres2</th>\n",
       "    </tr>\n",
       "  </thead>\n",
       "  <tbody>\n",
       "    <tr>\n",
       "      <td>8693</td>\n",
       "      <td>122912</td>\n",
       "      <td>Avengers: Infinity War - Part I (2018)</td>\n",
       "      <td>['Action', 'Adventure', 'Sci-Fi']</td>\n",
       "      <td>(2018)</td>\n",
       "      <td>['Action', 'Adventure', 'Sci-Fi'](2018)</td>\n",
       "    </tr>\n",
       "  </tbody>\n",
       "</table>\n",
       "</div>"
      ],
      "text/plain": [
       "      movieId                                   title  \\\n",
       "8693   122912  Avengers: Infinity War - Part I (2018)   \n",
       "\n",
       "                                 genres release_year  \\\n",
       "8693  ['Action', 'Adventure', 'Sci-Fi']       (2018)   \n",
       "\n",
       "                                      genres2  \n",
       "8693  ['Action', 'Adventure', 'Sci-Fi'](2018)  "
      ]
     },
     "execution_count": 17,
     "metadata": {},
     "output_type": "execute_result"
    }
   ],
   "source": [
    "movies[movies.title=='Avengers: Infinity War - Part I (2018)']"
   ]
  },
  {
   "cell_type": "code",
   "execution_count": 18,
   "metadata": {},
   "outputs": [
    {
     "data": {
      "text/plain": [
       "9706                               Rampage (2018)\n",
       "9710               Solo: A Star Wars Story (2018)\n",
       "9713                  Ant-Man and the Wasp (2018)\n",
       "9709                            Deadpool 2 (2018)\n",
       "9712                   Sorry to Bother You (2018)\n",
       "9705                 Pacific Rim: Uprising (2018)\n",
       "9697                     A Wrinkle in Time (2018)\n",
       "8489                     Jupiter Ascending (2015)\n",
       "8686               Avengers: Age of Ultron (2015)\n",
       "8689                               Ant-Man (2015)\n",
       "8812                         Power/Rangers (2015)\n",
       "9038                             Turbo Kid (2015)\n",
       "9073                        Hardcore Henry (2015)\n",
       "6743                              Iron Man (2008)\n",
       "6791    Journey to the Center of the Earth (2008)\n",
       "6825                     Mutant Chronicles (2008)\n",
       "6963                             Outlander (2008)\n",
       "8697                        Doctor Strange (2016)\n",
       "8916          Independence Day: Resurgence (2016)\n",
       "8917                      Star Trek Beyond (2016)\n",
       "Name: title, dtype: object"
      ]
     },
     "execution_count": 18,
     "metadata": {},
     "output_type": "execute_result"
    }
   ],
   "source": [
    "# the recommendations work well as they recommend movies with similar genres of the input movie based on the cosine similarity\n",
    "genre_recommendations('Avengers: Infinity War - Part I (2018)').head(20)"
   ]
  },
  {
   "cell_type": "code",
   "execution_count": 19,
   "metadata": {},
   "outputs": [
    {
     "data": {
      "text/plain": [
       "209     Gordy (1995)                                           \n",
       "160     Reckless (1995)                                        \n",
       "4604    Ninja Scroll (Jûbei ninpûchô) (1995)                   \n",
       "6948    Tale of Despereaux, The (2008)                         \n",
       "6194    Wild, The (2006)                                       \n",
       "7760    Asterix and the Vikings (Astérix et les Vikings) (2006)\n",
       "3568    Monsters, Inc. (2001)                                  \n",
       "8927    The Good Dinosaur (2015)                               \n",
       "2355    Toy Story 2 (1999)                                     \n",
       "6486    Shrek the Third (2007)                                 \n",
       "9430    Moana (2016)                                           \n",
       "2809    Adventures of Rocky and Bullwinkle, The (2000)         \n",
       "3000    Emperor's New Groove, The (2000)                       \n",
       "8219    Turbo (2013)                                           \n",
       "1706    Antz (1998)                                            \n",
       "1       Jumanji (1995)                                         \n",
       "53      Indian in the Cupboard, The (1995)                     \n",
       "3194    Shrek (2001)                                           \n",
       "6448    TMNT (Teenage Mutant Ninja Turtles) (2007)             \n",
       "169     Three Wishes (1995)                                    \n",
       "Name: title, dtype: object"
      ]
     },
     "execution_count": 19,
     "metadata": {},
     "output_type": "execute_result"
    }
   ],
   "source": [
    "pd.set_option('display.max_colwidth', -1)\n",
    "genre_recommendations('Toy Story (1995)').head(20)"
   ]
  },
  {
   "cell_type": "code",
   "execution_count": 20,
   "metadata": {},
   "outputs": [
    {
     "data": {
      "text/plain": [
       "8981    The Gallows (2015)                   \n",
       "9206    Frankenstein (2015)                  \n",
       "8867    Maggie (2015)                        \n",
       "9360    Body (2015)                          \n",
       "8989    Massu Engira Maasilamani (2015)      \n",
       "9093    Into the Grizzly Maze (2015)         \n",
       "8880    Return to Sender (2015)              \n",
       "8955    Careful What You Wish For (2015)     \n",
       "9071    Spotlight (2015)                     \n",
       "9168    Mojave (2015)                        \n",
       "9059    Knock Knock (2015)                   \n",
       "8734    Zipper (2015)                        \n",
       "8747    The Stanford Prison Experiment (2015)\n",
       "8858    Partisan (2015)                      \n",
       "9090    Bridge of Spies (2015)               \n",
       "9108    The Perfect Guy (2015)               \n",
       "6195    Silent Hill (2006)                   \n",
       "7329    Nightmare on Elm Street, A (2010)    \n",
       "7569    Insidious (2010)                     \n",
       "4961    Paperhouse (1988)                    \n",
       "Name: title, dtype: object"
      ]
     },
     "execution_count": 20,
     "metadata": {},
     "output_type": "execute_result"
    }
   ],
   "source": [
    "genre_recommendations('Insidious: Chapter 3 (2015)').head(20)"
   ]
  },
  {
   "cell_type": "code",
   "execution_count": 21,
   "metadata": {},
   "outputs": [
    {
     "data": {
      "text/plain": [
       "8372    Grand Budapest Hotel, The (2014)                       \n",
       "8407    Calvary (2014)                                         \n",
       "8441    Million Dollar Arm (2014)                              \n",
       "8452    Birdman: Or (The Unexpected Virtue of Ignorance) (2014)\n",
       "8468    Angriest Man in Brooklyn, The (2014)                   \n",
       "8485    The Hundred-Foot Journey (2014)                        \n",
       "8507    Pride (2014)                                           \n",
       "8521    This Is Where I Leave You (2014)                       \n",
       "8571    Rudderless (2014)                                      \n",
       "8579    The Longest Week (2014)                                \n",
       "8634    Men, Women & Children (2014)                           \n",
       "8748    A Pigeon Sat on a Branch Reflecting on Existence (2014)\n",
       "8801    While We're Young (2014)                               \n",
       "8833    The Road Within (2014)                                 \n",
       "8852    Welcome to Me (2014)                                   \n",
       "8861    Just Before I Go (2014)                                \n",
       "8866    Güeros (2014)                                          \n",
       "9039    The Unauthorized Saved by the Bell Story (2014)        \n",
       "9607    Alles Inklusive (2014)                                 \n",
       "9734    Silver Spoon (2014)                                    \n",
       "Name: title, dtype: object"
      ]
     },
     "execution_count": 21,
     "metadata": {},
     "output_type": "execute_result"
    }
   ],
   "source": [
    "genre_recommendations('Welcome to Me (2014)').head(20)"
   ]
  },
  {
   "cell_type": "code",
   "execution_count": 33,
   "metadata": {},
   "outputs": [],
   "source": [
    "#movies[movies['title'].str.contains(\"2014\")].tail(40)"
   ]
  },
  {
   "cell_type": "markdown",
   "metadata": {},
   "source": [
    "### COLLABORATIVE FILTERING - USER-USER BASED"
   ]
  },
  {
   "cell_type": "markdown",
   "metadata": {},
   "source": [
    "__Data processing__"
   ]
  },
  {
   "cell_type": "code",
   "execution_count": 34,
   "metadata": {},
   "outputs": [],
   "source": [
    "# Fill NaN values in user_id and movie_id column with 0\n",
    "ratings['userId'] = ratings['userId'].fillna(0)\n",
    "ratings['movieId'] = ratings['movieId'].fillna(0)\n",
    "\n",
    "# Replace NaN values in rating column with average of all values\n",
    "ratings['rating'] = ratings['rating'].fillna(ratings['rating'].mean())"
   ]
  },
  {
   "cell_type": "markdown",
   "metadata": {},
   "source": [
    "__Take random sample of data__"
   ]
  },
  {
   "cell_type": "code",
   "execution_count": 35,
   "metadata": {},
   "outputs": [
    {
     "name": "stdout",
     "output_type": "stream",
     "text": [
      "<class 'pandas.core.frame.DataFrame'>\n",
      "Int64Index: 20167 entries, 13300 to 90335\n",
      "Data columns (total 3 columns):\n",
      "userId     20167 non-null int64\n",
      "movieId    20167 non-null int64\n",
      "rating     20167 non-null float64\n",
      "dtypes: float64(1), int64(2)\n",
      "memory usage: 630.2 KB\n",
      "None\n"
     ]
    }
   ],
   "source": [
    "# Randomly sample 20% of the ratings dataset\n",
    "small_data = ratings.sample(frac=0.2,random_state=100)\n",
    "# Check the sample info\n",
    "print(small_data.info())"
   ]
  },
  {
   "cell_type": "code",
   "execution_count": 36,
   "metadata": {},
   "outputs": [],
   "source": [
    "from sklearn.model_selection import train_test_split\n",
    "train_data, test_data = train_test_split(small_data, test_size=0.2)"
   ]
  },
  {
   "cell_type": "code",
   "execution_count": 37,
   "metadata": {},
   "outputs": [
    {
     "name": "stdout",
     "output_type": "stream",
     "text": [
      "(16133, 3)\n",
      "(4034, 3)\n"
     ]
    }
   ],
   "source": [
    "# Create two user-item matrices, one for training and another for testing\n",
    "train_data_matrix = train_data.to_numpy()\n",
    "test_data_matrix = test_data.to_numpy()\n",
    "\n",
    "# Check their shape\n",
    "print(train_data_matrix.shape)\n",
    "print(test_data_matrix.shape)"
   ]
  },
  {
   "cell_type": "code",
   "execution_count": 38,
   "metadata": {},
   "outputs": [
    {
     "name": "stdout",
     "output_type": "stream",
     "text": [
      "[[1.         0.99053286 0.08773421 0.99812431]\n",
      " [0.99053286 1.         0.2236501  0.99707892]\n",
      " [0.08773421 0.2236501  1.         0.14855331]\n",
      " [0.99812431 0.99707892 0.14855331 1.        ]]\n"
     ]
    }
   ],
   "source": [
    "from sklearn.metrics.pairwise import pairwise_distances\n",
    "\n",
    "# User Similarity Matrix\n",
    "user_correlation = 1 - pairwise_distances(train_data, metric='correlation')\n",
    "user_correlation[np.isnan(user_correlation)] = 0\n",
    "print(user_correlation[:4, :4])"
   ]
  },
  {
   "cell_type": "code",
   "execution_count": 39,
   "metadata": {},
   "outputs": [
    {
     "name": "stdout",
     "output_type": "stream",
     "text": [
      "[[ 1.          0.00625342 -0.05891796]\n",
      " [ 0.00625342  1.          0.00455255]\n",
      " [-0.05891796  0.00455255  1.        ]]\n"
     ]
    }
   ],
   "source": [
    "# Item Similarity Matrix\n",
    "item_correlation = 1 - pairwise_distances(train_data_matrix.T, metric='correlation')\n",
    "item_correlation[np.isnan(item_correlation)] = 0\n",
    "print(item_correlation[:4, :4])"
   ]
  },
  {
   "cell_type": "code",
   "execution_count": 40,
   "metadata": {},
   "outputs": [],
   "source": [
    "# Function to predict ratings\n",
    "def predict(ratings, similarity, type='user'):\n",
    "    if type == 'user':\n",
    "        mean_user_rating = ratings.mean(axis=1)\n",
    "        # Use np.newaxis so that mean_user_rating has same format as ratings\n",
    "        ratings_diff = (ratings - mean_user_rating[:, np.newaxis])\n",
    "        pred = mean_user_rating[:, np.newaxis] + similarity.dot(ratings_diff) / np.array([np.abs(similarity).sum(axis=1)]).T\n",
    "    elif type == 'item':\n",
    "        pred = ratings.dot(similarity) / np.array([np.abs(similarity).sum(axis=1)])\n",
    "    return pred"
   ]
  },
  {
   "cell_type": "code",
   "execution_count": 41,
   "metadata": {},
   "outputs": [],
   "source": [
    "\n",
    "from sklearn.metrics import mean_squared_error\n",
    "from math import sqrt\n",
    "\n",
    "# Function to calculate RMSE\n",
    "def rmse(pred, actual):\n",
    "    # Ignore nonzero terms.\n",
    "    pred = pred[actual.nonzero()].flatten()\n",
    "    actual = actual[actual.nonzero()].flatten()\n",
    "    return sqrt(mean_squared_error(pred, actual))"
   ]
  },
  {
   "cell_type": "code",
   "execution_count": 42,
   "metadata": {},
   "outputs": [
    {
     "name": "stdout",
     "output_type": "stream",
     "text": [
      "User-based CF RMSE: 24893.65930295704\n",
      "Item-based CF RMSE: 29664.060421716946\n"
     ]
    }
   ],
   "source": [
    "# Predict ratings on the training data with both similarity score\n",
    "user_prediction = predict(train_data_matrix, user_correlation, type='user')\n",
    "item_prediction = predict(train_data_matrix, item_correlation, type='item')\n",
    "\n",
    "# RMSE on the test data\n",
    "print('User-based CF RMSE: ' + str(rmse(user_prediction, test_data_matrix)))\n",
    "print('Item-based CF RMSE: ' + str(rmse(item_prediction, test_data_matrix)))"
   ]
  },
  {
   "cell_type": "code",
   "execution_count": 43,
   "metadata": {},
   "outputs": [
    {
     "data": {
      "text/plain": [
       "array([[-1.52996667e+04,  3.08163333e+04, -1.55166667e+04],\n",
       "       [-2.71000000e+02,  7.20000000e+02, -4.49000000e+02],\n",
       "       [ 2.61666667e+02,  2.66666667e+01, -2.88333333e+02],\n",
       "       ...,\n",
       "       [-2.83333333e+02,  1.13966667e+03, -8.56333333e+02],\n",
       "       [ 1.21333333e+02,  1.41333333e+02, -2.62666667e+02],\n",
       "       [-3.42130000e+04,  6.87760000e+04, -3.45630000e+04]])"
      ]
     },
     "execution_count": 43,
     "metadata": {},
     "output_type": "execute_result"
    }
   ],
   "source": [
    "predict(train_data_matrix, user_correlation, type='user')\n",
    "train_data_matrix - train_data_matrix.mean(axis=1)[:, np.newaxis]"
   ]
  },
  {
   "cell_type": "markdown",
   "metadata": {},
   "source": [
    "### Singular Value Decomposition"
   ]
  },
  {
   "cell_type": "code",
   "execution_count": 44,
   "metadata": {},
   "outputs": [],
   "source": [
    "movies=pd.read_csv('movies.csv')\n",
    "ratings=pd.read_csv('ratings.csv')"
   ]
  },
  {
   "cell_type": "code",
   "execution_count": 45,
   "metadata": {},
   "outputs": [
    {
     "name": "stdout",
     "output_type": "stream",
     "text": [
      "Number of users =610 | Number of movies = 9724\n"
     ]
    }
   ],
   "source": [
    "n_users = ratings.userId.unique().shape[0]\n",
    "n_movies = ratings.movieId.unique().shape[0]\n",
    "print ('Number of users =' + str(n_users) + ' | Number of movies = ' + str(n_movies))"
   ]
  },
  {
   "cell_type": "code",
   "execution_count": 46,
   "metadata": {},
   "outputs": [
    {
     "data": {
      "text/html": [
       "<div>\n",
       "<style scoped>\n",
       "    .dataframe tbody tr th:only-of-type {\n",
       "        vertical-align: middle;\n",
       "    }\n",
       "\n",
       "    .dataframe tbody tr th {\n",
       "        vertical-align: top;\n",
       "    }\n",
       "\n",
       "    .dataframe thead th {\n",
       "        text-align: right;\n",
       "    }\n",
       "</style>\n",
       "<table border=\"1\" class=\"dataframe\">\n",
       "  <thead>\n",
       "    <tr style=\"text-align: right;\">\n",
       "      <th>movieId</th>\n",
       "      <th>1</th>\n",
       "      <th>2</th>\n",
       "      <th>3</th>\n",
       "      <th>4</th>\n",
       "      <th>5</th>\n",
       "      <th>6</th>\n",
       "      <th>7</th>\n",
       "      <th>8</th>\n",
       "      <th>9</th>\n",
       "      <th>10</th>\n",
       "      <th>...</th>\n",
       "      <th>193565</th>\n",
       "      <th>193567</th>\n",
       "      <th>193571</th>\n",
       "      <th>193573</th>\n",
       "      <th>193579</th>\n",
       "      <th>193581</th>\n",
       "      <th>193583</th>\n",
       "      <th>193585</th>\n",
       "      <th>193587</th>\n",
       "      <th>193609</th>\n",
       "    </tr>\n",
       "    <tr>\n",
       "      <th>userId</th>\n",
       "      <th></th>\n",
       "      <th></th>\n",
       "      <th></th>\n",
       "      <th></th>\n",
       "      <th></th>\n",
       "      <th></th>\n",
       "      <th></th>\n",
       "      <th></th>\n",
       "      <th></th>\n",
       "      <th></th>\n",
       "      <th></th>\n",
       "      <th></th>\n",
       "      <th></th>\n",
       "      <th></th>\n",
       "      <th></th>\n",
       "      <th></th>\n",
       "      <th></th>\n",
       "      <th></th>\n",
       "      <th></th>\n",
       "      <th></th>\n",
       "      <th></th>\n",
       "    </tr>\n",
       "  </thead>\n",
       "  <tbody>\n",
       "    <tr>\n",
       "      <td>1</td>\n",
       "      <td>4.0</td>\n",
       "      <td>0.0</td>\n",
       "      <td>4.0</td>\n",
       "      <td>0.0</td>\n",
       "      <td>0.0</td>\n",
       "      <td>4.0</td>\n",
       "      <td>0.0</td>\n",
       "      <td>0.0</td>\n",
       "      <td>0.0</td>\n",
       "      <td>0.0</td>\n",
       "      <td>...</td>\n",
       "      <td>0.0</td>\n",
       "      <td>0.0</td>\n",
       "      <td>0.0</td>\n",
       "      <td>0.0</td>\n",
       "      <td>0.0</td>\n",
       "      <td>0.0</td>\n",
       "      <td>0.0</td>\n",
       "      <td>0.0</td>\n",
       "      <td>0.0</td>\n",
       "      <td>0.0</td>\n",
       "    </tr>\n",
       "    <tr>\n",
       "      <td>2</td>\n",
       "      <td>0.0</td>\n",
       "      <td>0.0</td>\n",
       "      <td>0.0</td>\n",
       "      <td>0.0</td>\n",
       "      <td>0.0</td>\n",
       "      <td>0.0</td>\n",
       "      <td>0.0</td>\n",
       "      <td>0.0</td>\n",
       "      <td>0.0</td>\n",
       "      <td>0.0</td>\n",
       "      <td>...</td>\n",
       "      <td>0.0</td>\n",
       "      <td>0.0</td>\n",
       "      <td>0.0</td>\n",
       "      <td>0.0</td>\n",
       "      <td>0.0</td>\n",
       "      <td>0.0</td>\n",
       "      <td>0.0</td>\n",
       "      <td>0.0</td>\n",
       "      <td>0.0</td>\n",
       "      <td>0.0</td>\n",
       "    </tr>\n",
       "    <tr>\n",
       "      <td>3</td>\n",
       "      <td>0.0</td>\n",
       "      <td>0.0</td>\n",
       "      <td>0.0</td>\n",
       "      <td>0.0</td>\n",
       "      <td>0.0</td>\n",
       "      <td>0.0</td>\n",
       "      <td>0.0</td>\n",
       "      <td>0.0</td>\n",
       "      <td>0.0</td>\n",
       "      <td>0.0</td>\n",
       "      <td>...</td>\n",
       "      <td>0.0</td>\n",
       "      <td>0.0</td>\n",
       "      <td>0.0</td>\n",
       "      <td>0.0</td>\n",
       "      <td>0.0</td>\n",
       "      <td>0.0</td>\n",
       "      <td>0.0</td>\n",
       "      <td>0.0</td>\n",
       "      <td>0.0</td>\n",
       "      <td>0.0</td>\n",
       "    </tr>\n",
       "    <tr>\n",
       "      <td>4</td>\n",
       "      <td>0.0</td>\n",
       "      <td>0.0</td>\n",
       "      <td>0.0</td>\n",
       "      <td>0.0</td>\n",
       "      <td>0.0</td>\n",
       "      <td>0.0</td>\n",
       "      <td>0.0</td>\n",
       "      <td>0.0</td>\n",
       "      <td>0.0</td>\n",
       "      <td>0.0</td>\n",
       "      <td>...</td>\n",
       "      <td>0.0</td>\n",
       "      <td>0.0</td>\n",
       "      <td>0.0</td>\n",
       "      <td>0.0</td>\n",
       "      <td>0.0</td>\n",
       "      <td>0.0</td>\n",
       "      <td>0.0</td>\n",
       "      <td>0.0</td>\n",
       "      <td>0.0</td>\n",
       "      <td>0.0</td>\n",
       "    </tr>\n",
       "    <tr>\n",
       "      <td>5</td>\n",
       "      <td>4.0</td>\n",
       "      <td>0.0</td>\n",
       "      <td>0.0</td>\n",
       "      <td>0.0</td>\n",
       "      <td>0.0</td>\n",
       "      <td>0.0</td>\n",
       "      <td>0.0</td>\n",
       "      <td>0.0</td>\n",
       "      <td>0.0</td>\n",
       "      <td>0.0</td>\n",
       "      <td>...</td>\n",
       "      <td>0.0</td>\n",
       "      <td>0.0</td>\n",
       "      <td>0.0</td>\n",
       "      <td>0.0</td>\n",
       "      <td>0.0</td>\n",
       "      <td>0.0</td>\n",
       "      <td>0.0</td>\n",
       "      <td>0.0</td>\n",
       "      <td>0.0</td>\n",
       "      <td>0.0</td>\n",
       "    </tr>\n",
       "  </tbody>\n",
       "</table>\n",
       "<p>5 rows × 9724 columns</p>\n",
       "</div>"
      ],
      "text/plain": [
       "movieId    1    2    3    4    5    6    7    8    9   10  ...  193565  \\\n",
       "userId                                                     ...           \n",
       "1        4.0  0.0  4.0  0.0  0.0  4.0  0.0  0.0  0.0  0.0  ...  0.0      \n",
       "2        0.0  0.0  0.0  0.0  0.0  0.0  0.0  0.0  0.0  0.0  ...  0.0      \n",
       "3        0.0  0.0  0.0  0.0  0.0  0.0  0.0  0.0  0.0  0.0  ...  0.0      \n",
       "4        0.0  0.0  0.0  0.0  0.0  0.0  0.0  0.0  0.0  0.0  ...  0.0      \n",
       "5        4.0  0.0  0.0  0.0  0.0  0.0  0.0  0.0  0.0  0.0  ...  0.0      \n",
       "\n",
       "movieId  193567  193571  193573  193579  193581  193583  193585  193587  \\\n",
       "userId                                                                    \n",
       "1        0.0     0.0     0.0     0.0     0.0     0.0     0.0     0.0      \n",
       "2        0.0     0.0     0.0     0.0     0.0     0.0     0.0     0.0      \n",
       "3        0.0     0.0     0.0     0.0     0.0     0.0     0.0     0.0      \n",
       "4        0.0     0.0     0.0     0.0     0.0     0.0     0.0     0.0      \n",
       "5        0.0     0.0     0.0     0.0     0.0     0.0     0.0     0.0      \n",
       "\n",
       "movieId  193609  \n",
       "userId           \n",
       "1        0.0     \n",
       "2        0.0     \n",
       "3        0.0     \n",
       "4        0.0     \n",
       "5        0.0     \n",
       "\n",
       "[5 rows x 9724 columns]"
      ]
     },
     "execution_count": 46,
     "metadata": {},
     "output_type": "execute_result"
    }
   ],
   "source": [
    "Ratings = ratings.pivot(index = 'userId', columns ='movieId', values = 'rating').fillna(0)\n",
    "Ratings.head()"
   ]
  },
  {
   "cell_type": "code",
   "execution_count": 47,
   "metadata": {},
   "outputs": [],
   "source": [
    "R = Ratings.to_numpy()\n",
    "user_ratings_mean = np.mean(R, axis = 1)\n",
    "Ratings_demeaned = R - user_ratings_mean.reshape(-1, 1)"
   ]
  },
  {
   "cell_type": "code",
   "execution_count": 48,
   "metadata": {},
   "outputs": [
    {
     "name": "stdout",
     "output_type": "stream",
     "text": [
      "The sparsity level of MovieLens1M dataset is 98.3%\n"
     ]
    }
   ],
   "source": [
    "sparsity = round(1.0 - len(ratings) / float(n_users * n_movies), 3)\n",
    "print ('The sparsity level of MovieLens1M dataset is ' +  str(sparsity * 100) + '%')"
   ]
  },
  {
   "cell_type": "code",
   "execution_count": 49,
   "metadata": {},
   "outputs": [],
   "source": [
    "from scipy.sparse.linalg import svds\n",
    "U, sigma, Vt = svds(Ratings_demeaned, k = 50)"
   ]
  },
  {
   "cell_type": "code",
   "execution_count": 50,
   "metadata": {},
   "outputs": [],
   "source": [
    "sigma = np.diag(sigma)"
   ]
  },
  {
   "cell_type": "code",
   "execution_count": 51,
   "metadata": {},
   "outputs": [],
   "source": [
    "all_user_predicted_ratings = np.dot(np.dot(U, sigma), Vt) + user_ratings_mean.reshape(-1, 1)"
   ]
  },
  {
   "cell_type": "code",
   "execution_count": 52,
   "metadata": {},
   "outputs": [
    {
     "data": {
      "text/html": [
       "<div>\n",
       "<style scoped>\n",
       "    .dataframe tbody tr th:only-of-type {\n",
       "        vertical-align: middle;\n",
       "    }\n",
       "\n",
       "    .dataframe tbody tr th {\n",
       "        vertical-align: top;\n",
       "    }\n",
       "\n",
       "    .dataframe thead th {\n",
       "        text-align: right;\n",
       "    }\n",
       "</style>\n",
       "<table border=\"1\" class=\"dataframe\">\n",
       "  <thead>\n",
       "    <tr style=\"text-align: right;\">\n",
       "      <th>movieId</th>\n",
       "      <th>1</th>\n",
       "      <th>2</th>\n",
       "      <th>3</th>\n",
       "      <th>4</th>\n",
       "      <th>5</th>\n",
       "      <th>6</th>\n",
       "      <th>7</th>\n",
       "      <th>8</th>\n",
       "      <th>9</th>\n",
       "      <th>10</th>\n",
       "      <th>...</th>\n",
       "      <th>193565</th>\n",
       "      <th>193567</th>\n",
       "      <th>193571</th>\n",
       "      <th>193573</th>\n",
       "      <th>193579</th>\n",
       "      <th>193581</th>\n",
       "      <th>193583</th>\n",
       "      <th>193585</th>\n",
       "      <th>193587</th>\n",
       "      <th>193609</th>\n",
       "    </tr>\n",
       "  </thead>\n",
       "  <tbody>\n",
       "    <tr>\n",
       "      <td>0</td>\n",
       "      <td>2.167328</td>\n",
       "      <td>0.402751</td>\n",
       "      <td>0.840184</td>\n",
       "      <td>-0.076281</td>\n",
       "      <td>-0.551337</td>\n",
       "      <td>2.504091</td>\n",
       "      <td>-0.890114</td>\n",
       "      <td>-0.026443</td>\n",
       "      <td>0.196974</td>\n",
       "      <td>1.593259</td>\n",
       "      <td>...</td>\n",
       "      <td>-0.023453</td>\n",
       "      <td>-0.019967</td>\n",
       "      <td>-0.026939</td>\n",
       "      <td>-0.026939</td>\n",
       "      <td>-0.023453</td>\n",
       "      <td>-0.026939</td>\n",
       "      <td>-0.023453</td>\n",
       "      <td>-0.023453</td>\n",
       "      <td>-0.023453</td>\n",
       "      <td>-0.058732</td>\n",
       "    </tr>\n",
       "    <tr>\n",
       "      <td>1</td>\n",
       "      <td>0.211459</td>\n",
       "      <td>0.006658</td>\n",
       "      <td>0.033455</td>\n",
       "      <td>0.017419</td>\n",
       "      <td>0.183430</td>\n",
       "      <td>-0.062473</td>\n",
       "      <td>0.083037</td>\n",
       "      <td>0.024158</td>\n",
       "      <td>0.049330</td>\n",
       "      <td>-0.152530</td>\n",
       "      <td>...</td>\n",
       "      <td>0.019498</td>\n",
       "      <td>0.016777</td>\n",
       "      <td>0.022219</td>\n",
       "      <td>0.022219</td>\n",
       "      <td>0.019498</td>\n",
       "      <td>0.022219</td>\n",
       "      <td>0.019498</td>\n",
       "      <td>0.019498</td>\n",
       "      <td>0.019498</td>\n",
       "      <td>0.032281</td>\n",
       "    </tr>\n",
       "    <tr>\n",
       "      <td>2</td>\n",
       "      <td>0.003588</td>\n",
       "      <td>0.030518</td>\n",
       "      <td>0.046393</td>\n",
       "      <td>0.008176</td>\n",
       "      <td>-0.006247</td>\n",
       "      <td>0.107328</td>\n",
       "      <td>-0.012416</td>\n",
       "      <td>0.003779</td>\n",
       "      <td>0.007297</td>\n",
       "      <td>-0.059362</td>\n",
       "      <td>...</td>\n",
       "      <td>0.005909</td>\n",
       "      <td>0.006209</td>\n",
       "      <td>0.005610</td>\n",
       "      <td>0.005610</td>\n",
       "      <td>0.005909</td>\n",
       "      <td>0.005610</td>\n",
       "      <td>0.005909</td>\n",
       "      <td>0.005909</td>\n",
       "      <td>0.005909</td>\n",
       "      <td>0.008004</td>\n",
       "    </tr>\n",
       "    <tr>\n",
       "      <td>3</td>\n",
       "      <td>2.051549</td>\n",
       "      <td>-0.387104</td>\n",
       "      <td>-0.252199</td>\n",
       "      <td>0.087562</td>\n",
       "      <td>0.130465</td>\n",
       "      <td>0.270210</td>\n",
       "      <td>0.477835</td>\n",
       "      <td>0.040313</td>\n",
       "      <td>0.025858</td>\n",
       "      <td>-0.017365</td>\n",
       "      <td>...</td>\n",
       "      <td>0.004836</td>\n",
       "      <td>0.004172</td>\n",
       "      <td>0.005500</td>\n",
       "      <td>0.005500</td>\n",
       "      <td>0.004836</td>\n",
       "      <td>0.005500</td>\n",
       "      <td>0.004836</td>\n",
       "      <td>0.004836</td>\n",
       "      <td>0.004836</td>\n",
       "      <td>-0.023311</td>\n",
       "    </tr>\n",
       "    <tr>\n",
       "      <td>4</td>\n",
       "      <td>1.344738</td>\n",
       "      <td>0.778511</td>\n",
       "      <td>0.065749</td>\n",
       "      <td>0.111744</td>\n",
       "      <td>0.273144</td>\n",
       "      <td>0.584426</td>\n",
       "      <td>0.254930</td>\n",
       "      <td>0.128788</td>\n",
       "      <td>-0.085541</td>\n",
       "      <td>1.023455</td>\n",
       "      <td>...</td>\n",
       "      <td>-0.008042</td>\n",
       "      <td>-0.007419</td>\n",
       "      <td>-0.008664</td>\n",
       "      <td>-0.008664</td>\n",
       "      <td>-0.008042</td>\n",
       "      <td>-0.008664</td>\n",
       "      <td>-0.008042</td>\n",
       "      <td>-0.008042</td>\n",
       "      <td>-0.008042</td>\n",
       "      <td>-0.010127</td>\n",
       "    </tr>\n",
       "  </tbody>\n",
       "</table>\n",
       "<p>5 rows × 9724 columns</p>\n",
       "</div>"
      ],
      "text/plain": [
       "movieId         1         2         3         4         5         6         7  \\\n",
       "0        2.167328  0.402751  0.840184 -0.076281 -0.551337  2.504091 -0.890114   \n",
       "1        0.211459  0.006658  0.033455  0.017419  0.183430 -0.062473  0.083037   \n",
       "2        0.003588  0.030518  0.046393  0.008176 -0.006247  0.107328 -0.012416   \n",
       "3        2.051549 -0.387104 -0.252199  0.087562  0.130465  0.270210  0.477835   \n",
       "4        1.344738  0.778511  0.065749  0.111744  0.273144  0.584426  0.254930   \n",
       "\n",
       "movieId         8         9        10  ...    193565    193567    193571  \\\n",
       "0       -0.026443  0.196974  1.593259  ... -0.023453 -0.019967 -0.026939   \n",
       "1        0.024158  0.049330 -0.152530  ...  0.019498  0.016777  0.022219   \n",
       "2        0.003779  0.007297 -0.059362  ...  0.005909  0.006209  0.005610   \n",
       "3        0.040313  0.025858 -0.017365  ...  0.004836  0.004172  0.005500   \n",
       "4        0.128788 -0.085541  1.023455  ... -0.008042 -0.007419 -0.008664   \n",
       "\n",
       "movieId    193573    193579    193581    193583    193585    193587    193609  \n",
       "0       -0.026939 -0.023453 -0.026939 -0.023453 -0.023453 -0.023453 -0.058732  \n",
       "1        0.022219  0.019498  0.022219  0.019498  0.019498  0.019498  0.032281  \n",
       "2        0.005610  0.005909  0.005610  0.005909  0.005909  0.005909  0.008004  \n",
       "3        0.005500  0.004836  0.005500  0.004836  0.004836  0.004836 -0.023311  \n",
       "4       -0.008664 -0.008042 -0.008664 -0.008042 -0.008042 -0.008042 -0.010127  \n",
       "\n",
       "[5 rows x 9724 columns]"
      ]
     },
     "execution_count": 52,
     "metadata": {},
     "output_type": "execute_result"
    }
   ],
   "source": [
    "preds = pd.DataFrame(all_user_predicted_ratings, columns = Ratings.columns)\n",
    "preds.head()"
   ]
  },
  {
   "cell_type": "code",
   "execution_count": 53,
   "metadata": {},
   "outputs": [],
   "source": [
    "def recommend_movies(predictions, userID, movies, original_ratings, num_recommendations):    \n",
    "    # Get and sort the user's predictions\n",
    "    user_row_number = userID - 1 # User ID starts at 1, not 0\n",
    "    sorted_user_predictions = preds.iloc[user_row_number].sort_values(ascending=False) # User ID starts at 1\n",
    "    \n",
    "    # Get the user's data and merge in the movie information.\n",
    "    user_data = original_ratings[original_ratings.userId == (userID)]\n",
    "    user_full = (user_data.merge(movies, how = 'left', left_on = 'movieId', right_on = 'movieId').\n",
    "                     sort_values(['rating'], ascending=False)\n",
    "                 )\n",
    "\n",
    "    print ('User {0} has already rated {1} movies.'.format(userID, user_full.shape[0]))\n",
    "    print ('Recommending highest {0} predicted ratings movies not already rated.'.format(num_recommendations))\n",
    "    \n",
    "    # Recommend the highest predicted rating movies that the user hasn't seen yet.\n",
    "    recommendations = (movies[~movies['movieId'].isin(user_full['movieId'])].\n",
    "         merge(pd.DataFrame(sorted_user_predictions).reset_index(), how = 'left',\n",
    "               left_on = 'movieId',\n",
    "               right_on = 'movieId').\n",
    "         rename(columns = {user_row_number: 'Predictions'}).\n",
    "         sort_values('Predictions', ascending = False).\n",
    "                       iloc[:num_recommendations, :-1]\n",
    "                      )\n",
    "\n",
    "    return user_full, recommendations"
   ]
  },
  {
   "cell_type": "code",
   "execution_count": 54,
   "metadata": {},
   "outputs": [
    {
     "name": "stdout",
     "output_type": "stream",
     "text": [
      "User 400 has already rated 43 movies.\n",
      "Recommending highest 20 predicted ratings movies not already rated.\n"
     ]
    }
   ],
   "source": [
    "already_rated, predictions = recommend_movies(preds, 400, movies, ratings, 20)\n",
    "#Change 400 from 1 to 610 = # unique userId"
   ]
  },
  {
   "cell_type": "code",
   "execution_count": 55,
   "metadata": {},
   "outputs": [
    {
     "data": {
      "text/html": [
       "<div>\n",
       "<style scoped>\n",
       "    .dataframe tbody tr th:only-of-type {\n",
       "        vertical-align: middle;\n",
       "    }\n",
       "\n",
       "    .dataframe tbody tr th {\n",
       "        vertical-align: top;\n",
       "    }\n",
       "\n",
       "    .dataframe thead th {\n",
       "        text-align: right;\n",
       "    }\n",
       "</style>\n",
       "<table border=\"1\" class=\"dataframe\">\n",
       "  <thead>\n",
       "    <tr style=\"text-align: right;\">\n",
       "      <th></th>\n",
       "      <th>userId</th>\n",
       "      <th>movieId</th>\n",
       "      <th>rating</th>\n",
       "      <th>timestamp</th>\n",
       "      <th>title</th>\n",
       "      <th>genres</th>\n",
       "    </tr>\n",
       "  </thead>\n",
       "  <tbody>\n",
       "    <tr>\n",
       "      <td>0</td>\n",
       "      <td>400</td>\n",
       "      <td>6</td>\n",
       "      <td>5.0</td>\n",
       "      <td>1498870480</td>\n",
       "      <td>Heat (1995)</td>\n",
       "      <td>Action|Crime|Thriller</td>\n",
       "    </tr>\n",
       "    <tr>\n",
       "      <td>10</td>\n",
       "      <td>400</td>\n",
       "      <td>608</td>\n",
       "      <td>5.0</td>\n",
       "      <td>1498870431</td>\n",
       "      <td>Fargo (1996)</td>\n",
       "      <td>Comedy|Crime|Drama|Thriller</td>\n",
       "    </tr>\n",
       "    <tr>\n",
       "      <td>1</td>\n",
       "      <td>400</td>\n",
       "      <td>47</td>\n",
       "      <td>5.0</td>\n",
       "      <td>1498870391</td>\n",
       "      <td>Seven (a.k.a. Se7en) (1995)</td>\n",
       "      <td>Mystery|Thriller</td>\n",
       "    </tr>\n",
       "    <tr>\n",
       "      <td>26</td>\n",
       "      <td>400</td>\n",
       "      <td>3949</td>\n",
       "      <td>5.0</td>\n",
       "      <td>1498870465</td>\n",
       "      <td>Requiem for a Dream (2000)</td>\n",
       "      <td>Drama</td>\n",
       "    </tr>\n",
       "    <tr>\n",
       "      <td>18</td>\n",
       "      <td>400</td>\n",
       "      <td>1210</td>\n",
       "      <td>5.0</td>\n",
       "      <td>1498870163</td>\n",
       "      <td>Star Wars: Episode VI - Return of the Jedi (1983)</td>\n",
       "      <td>Action|Adventure|Sci-Fi</td>\n",
       "    </tr>\n",
       "    <tr>\n",
       "      <td>30</td>\n",
       "      <td>400</td>\n",
       "      <td>44199</td>\n",
       "      <td>5.0</td>\n",
       "      <td>1498870195</td>\n",
       "      <td>Inside Man (2006)</td>\n",
       "      <td>Crime|Drama|Thriller</td>\n",
       "    </tr>\n",
       "    <tr>\n",
       "      <td>15</td>\n",
       "      <td>400</td>\n",
       "      <td>1196</td>\n",
       "      <td>5.0</td>\n",
       "      <td>1498870150</td>\n",
       "      <td>Star Wars: Episode V - The Empire Strikes Back (1980)</td>\n",
       "      <td>Action|Adventure|Sci-Fi</td>\n",
       "    </tr>\n",
       "    <tr>\n",
       "      <td>38</td>\n",
       "      <td>400</td>\n",
       "      <td>79132</td>\n",
       "      <td>5.0</td>\n",
       "      <td>1498870346</td>\n",
       "      <td>Inception (2010)</td>\n",
       "      <td>Action|Crime|Drama|Mystery|Sci-Fi|Thriller|IMAX</td>\n",
       "    </tr>\n",
       "    <tr>\n",
       "      <td>12</td>\n",
       "      <td>400</td>\n",
       "      <td>858</td>\n",
       "      <td>5.0</td>\n",
       "      <td>1498870339</td>\n",
       "      <td>Godfather, The (1972)</td>\n",
       "      <td>Crime|Drama</td>\n",
       "    </tr>\n",
       "    <tr>\n",
       "      <td>23</td>\n",
       "      <td>400</td>\n",
       "      <td>2571</td>\n",
       "      <td>5.0</td>\n",
       "      <td>1498870160</td>\n",
       "      <td>Matrix, The (1999)</td>\n",
       "      <td>Action|Sci-Fi|Thriller</td>\n",
       "    </tr>\n",
       "    <tr>\n",
       "      <td>11</td>\n",
       "      <td>400</td>\n",
       "      <td>778</td>\n",
       "      <td>5.0</td>\n",
       "      <td>1498870441</td>\n",
       "      <td>Trainspotting (1996)</td>\n",
       "      <td>Comedy|Crime|Drama</td>\n",
       "    </tr>\n",
       "    <tr>\n",
       "      <td>9</td>\n",
       "      <td>400</td>\n",
       "      <td>593</td>\n",
       "      <td>5.0</td>\n",
       "      <td>1498870393</td>\n",
       "      <td>Silence of the Lambs, The (1991)</td>\n",
       "      <td>Crime|Horror|Thriller</td>\n",
       "    </tr>\n",
       "    <tr>\n",
       "      <td>6</td>\n",
       "      <td>400</td>\n",
       "      <td>318</td>\n",
       "      <td>5.0</td>\n",
       "      <td>1498870167</td>\n",
       "      <td>Shawshank Redemption, The (1994)</td>\n",
       "      <td>Crime|Drama</td>\n",
       "    </tr>\n",
       "    <tr>\n",
       "      <td>5</td>\n",
       "      <td>400</td>\n",
       "      <td>296</td>\n",
       "      <td>5.0</td>\n",
       "      <td>1498870341</td>\n",
       "      <td>Pulp Fiction (1994)</td>\n",
       "      <td>Comedy|Crime|Drama|Thriller</td>\n",
       "    </tr>\n",
       "    <tr>\n",
       "      <td>4</td>\n",
       "      <td>400</td>\n",
       "      <td>293</td>\n",
       "      <td>5.0</td>\n",
       "      <td>1498870424</td>\n",
       "      <td>Léon: The Professional (a.k.a. The Professional) (Léon) (1994)</td>\n",
       "      <td>Action|Crime|Drama|Thriller</td>\n",
       "    </tr>\n",
       "    <tr>\n",
       "      <td>3</td>\n",
       "      <td>400</td>\n",
       "      <td>260</td>\n",
       "      <td>5.0</td>\n",
       "      <td>1498870148</td>\n",
       "      <td>Star Wars: Episode IV - A New Hope (1977)</td>\n",
       "      <td>Action|Adventure|Sci-Fi</td>\n",
       "    </tr>\n",
       "    <tr>\n",
       "      <td>2</td>\n",
       "      <td>400</td>\n",
       "      <td>50</td>\n",
       "      <td>5.0</td>\n",
       "      <td>1498870285</td>\n",
       "      <td>Usual Suspects, The (1995)</td>\n",
       "      <td>Crime|Mystery|Thriller</td>\n",
       "    </tr>\n",
       "    <tr>\n",
       "      <td>24</td>\n",
       "      <td>400</td>\n",
       "      <td>2959</td>\n",
       "      <td>5.0</td>\n",
       "      <td>1498870338</td>\n",
       "      <td>Fight Club (1999)</td>\n",
       "      <td>Action|Crime|Drama|Thriller</td>\n",
       "    </tr>\n",
       "    <tr>\n",
       "      <td>39</td>\n",
       "      <td>400</td>\n",
       "      <td>122886</td>\n",
       "      <td>4.5</td>\n",
       "      <td>1498870389</td>\n",
       "      <td>Star Wars: Episode VII - The Force Awakens (2015)</td>\n",
       "      <td>Action|Adventure|Fantasy|Sci-Fi|IMAX</td>\n",
       "    </tr>\n",
       "    <tr>\n",
       "      <td>41</td>\n",
       "      <td>400</td>\n",
       "      <td>164179</td>\n",
       "      <td>4.5</td>\n",
       "      <td>1498870217</td>\n",
       "      <td>Arrival (2016)</td>\n",
       "      <td>Sci-Fi</td>\n",
       "    </tr>\n",
       "  </tbody>\n",
       "</table>\n",
       "</div>"
      ],
      "text/plain": [
       "    userId  movieId  rating   timestamp  \\\n",
       "0   400     6        5.0     1498870480   \n",
       "10  400     608      5.0     1498870431   \n",
       "1   400     47       5.0     1498870391   \n",
       "26  400     3949     5.0     1498870465   \n",
       "18  400     1210     5.0     1498870163   \n",
       "30  400     44199    5.0     1498870195   \n",
       "15  400     1196     5.0     1498870150   \n",
       "38  400     79132    5.0     1498870346   \n",
       "12  400     858      5.0     1498870339   \n",
       "23  400     2571     5.0     1498870160   \n",
       "11  400     778      5.0     1498870441   \n",
       "9   400     593      5.0     1498870393   \n",
       "6   400     318      5.0     1498870167   \n",
       "5   400     296      5.0     1498870341   \n",
       "4   400     293      5.0     1498870424   \n",
       "3   400     260      5.0     1498870148   \n",
       "2   400     50       5.0     1498870285   \n",
       "24  400     2959     5.0     1498870338   \n",
       "39  400     122886   4.5     1498870389   \n",
       "41  400     164179   4.5     1498870217   \n",
       "\n",
       "                                                             title  \\\n",
       "0   Heat (1995)                                                      \n",
       "10  Fargo (1996)                                                     \n",
       "1   Seven (a.k.a. Se7en) (1995)                                      \n",
       "26  Requiem for a Dream (2000)                                       \n",
       "18  Star Wars: Episode VI - Return of the Jedi (1983)                \n",
       "30  Inside Man (2006)                                                \n",
       "15  Star Wars: Episode V - The Empire Strikes Back (1980)            \n",
       "38  Inception (2010)                                                 \n",
       "12  Godfather, The (1972)                                            \n",
       "23  Matrix, The (1999)                                               \n",
       "11  Trainspotting (1996)                                             \n",
       "9   Silence of the Lambs, The (1991)                                 \n",
       "6   Shawshank Redemption, The (1994)                                 \n",
       "5   Pulp Fiction (1994)                                              \n",
       "4   Léon: The Professional (a.k.a. The Professional) (Léon) (1994)   \n",
       "3   Star Wars: Episode IV - A New Hope (1977)                        \n",
       "2   Usual Suspects, The (1995)                                       \n",
       "24  Fight Club (1999)                                                \n",
       "39  Star Wars: Episode VII - The Force Awakens (2015)                \n",
       "41  Arrival (2016)                                                   \n",
       "\n",
       "                                             genres  \n",
       "0   Action|Crime|Thriller                            \n",
       "10  Comedy|Crime|Drama|Thriller                      \n",
       "1   Mystery|Thriller                                 \n",
       "26  Drama                                            \n",
       "18  Action|Adventure|Sci-Fi                          \n",
       "30  Crime|Drama|Thriller                             \n",
       "15  Action|Adventure|Sci-Fi                          \n",
       "38  Action|Crime|Drama|Mystery|Sci-Fi|Thriller|IMAX  \n",
       "12  Crime|Drama                                      \n",
       "23  Action|Sci-Fi|Thriller                           \n",
       "11  Comedy|Crime|Drama                               \n",
       "9   Crime|Horror|Thriller                            \n",
       "6   Crime|Drama                                      \n",
       "5   Comedy|Crime|Drama|Thriller                      \n",
       "4   Action|Crime|Drama|Thriller                      \n",
       "3   Action|Adventure|Sci-Fi                          \n",
       "2   Crime|Mystery|Thriller                           \n",
       "24  Action|Crime|Drama|Thriller                      \n",
       "39  Action|Adventure|Fantasy|Sci-Fi|IMAX             \n",
       "41  Sci-Fi                                           "
      ]
     },
     "execution_count": 55,
     "metadata": {},
     "output_type": "execute_result"
    }
   ],
   "source": [
    "already_rated.head(20)"
   ]
  },
  {
   "cell_type": "code",
   "execution_count": 56,
   "metadata": {},
   "outputs": [
    {
     "data": {
      "text/html": [
       "<div>\n",
       "<style scoped>\n",
       "    .dataframe tbody tr th:only-of-type {\n",
       "        vertical-align: middle;\n",
       "    }\n",
       "\n",
       "    .dataframe tbody tr th {\n",
       "        vertical-align: top;\n",
       "    }\n",
       "\n",
       "    .dataframe thead th {\n",
       "        text-align: right;\n",
       "    }\n",
       "</style>\n",
       "<table border=\"1\" class=\"dataframe\">\n",
       "  <thead>\n",
       "    <tr style=\"text-align: right;\">\n",
       "      <th></th>\n",
       "      <th>movieId</th>\n",
       "      <th>title</th>\n",
       "      <th>genres</th>\n",
       "    </tr>\n",
       "  </thead>\n",
       "  <tbody>\n",
       "    <tr>\n",
       "      <td>453</td>\n",
       "      <td>527</td>\n",
       "      <td>Schindler's List (1993)</td>\n",
       "      <td>Drama|War</td>\n",
       "    </tr>\n",
       "    <tr>\n",
       "      <td>4108</td>\n",
       "      <td>5952</td>\n",
       "      <td>Lord of the Rings: The Two Towers, The (2002)</td>\n",
       "      <td>Adventure|Fantasy</td>\n",
       "    </tr>\n",
       "    <tr>\n",
       "      <td>2121</td>\n",
       "      <td>2858</td>\n",
       "      <td>American Beauty (1999)</td>\n",
       "      <td>Drama|Romance</td>\n",
       "    </tr>\n",
       "    <tr>\n",
       "      <td>1711</td>\n",
       "      <td>2329</td>\n",
       "      <td>American History X (1998)</td>\n",
       "      <td>Crime|Drama</td>\n",
       "    </tr>\n",
       "    <tr>\n",
       "      <td>1480</td>\n",
       "      <td>2028</td>\n",
       "      <td>Saving Private Ryan (1998)</td>\n",
       "      <td>Action|Drama|War</td>\n",
       "    </tr>\n",
       "    <tr>\n",
       "      <td>814</td>\n",
       "      <td>1089</td>\n",
       "      <td>Reservoir Dogs (1992)</td>\n",
       "      <td>Crime|Mystery|Thriller</td>\n",
       "    </tr>\n",
       "    <tr>\n",
       "      <td>94</td>\n",
       "      <td>110</td>\n",
       "      <td>Braveheart (1995)</td>\n",
       "      <td>Action|Drama|War</td>\n",
       "    </tr>\n",
       "    <tr>\n",
       "      <td>967</td>\n",
       "      <td>1291</td>\n",
       "      <td>Indiana Jones and the Last Crusade (1989)</td>\n",
       "      <td>Action|Adventure</td>\n",
       "    </tr>\n",
       "    <tr>\n",
       "      <td>3114</td>\n",
       "      <td>4226</td>\n",
       "      <td>Memento (2000)</td>\n",
       "      <td>Mystery|Thriller</td>\n",
       "    </tr>\n",
       "    <tr>\n",
       "      <td>7729</td>\n",
       "      <td>91529</td>\n",
       "      <td>Dark Knight Rises, The (2012)</td>\n",
       "      <td>Action|Adventure|Crime|IMAX</td>\n",
       "    </tr>\n",
       "    <tr>\n",
       "      <td>6973</td>\n",
       "      <td>68157</td>\n",
       "      <td>Inglourious Basterds (2009)</td>\n",
       "      <td>Action|Drama|War</td>\n",
       "    </tr>\n",
       "    <tr>\n",
       "      <td>4147</td>\n",
       "      <td>6016</td>\n",
       "      <td>City of God (Cidade de Deus) (2002)</td>\n",
       "      <td>Action|Adventure|Crime|Drama|Thriller</td>\n",
       "    </tr>\n",
       "    <tr>\n",
       "      <td>498</td>\n",
       "      <td>589</td>\n",
       "      <td>Terminator 2: Judgment Day (1991)</td>\n",
       "      <td>Action|Sci-Fi</td>\n",
       "    </tr>\n",
       "    <tr>\n",
       "      <td>1261</td>\n",
       "      <td>1704</td>\n",
       "      <td>Good Will Hunting (1997)</td>\n",
       "      <td>Drama|Romance</td>\n",
       "    </tr>\n",
       "    <tr>\n",
       "      <td>884</td>\n",
       "      <td>1200</td>\n",
       "      <td>Aliens (1986)</td>\n",
       "      <td>Action|Adventure|Horror|Sci-Fi</td>\n",
       "    </tr>\n",
       "    <tr>\n",
       "      <td>895</td>\n",
       "      <td>1214</td>\n",
       "      <td>Alien (1979)</td>\n",
       "      <td>Horror|Sci-Fi</td>\n",
       "    </tr>\n",
       "    <tr>\n",
       "      <td>0</td>\n",
       "      <td>1</td>\n",
       "      <td>Toy Story (1995)</td>\n",
       "      <td>Adventure|Animation|Children|Comedy|Fantasy</td>\n",
       "    </tr>\n",
       "    <tr>\n",
       "      <td>8024</td>\n",
       "      <td>99114</td>\n",
       "      <td>Django Unchained (2012)</td>\n",
       "      <td>Action|Drama|Western</td>\n",
       "    </tr>\n",
       "    <tr>\n",
       "      <td>4879</td>\n",
       "      <td>7361</td>\n",
       "      <td>Eternal Sunshine of the Spotless Mind (2004)</td>\n",
       "      <td>Drama|Romance|Sci-Fi</td>\n",
       "    </tr>\n",
       "    <tr>\n",
       "      <td>849</td>\n",
       "      <td>1136</td>\n",
       "      <td>Monty Python and the Holy Grail (1975)</td>\n",
       "      <td>Adventure|Comedy|Fantasy</td>\n",
       "    </tr>\n",
       "  </tbody>\n",
       "</table>\n",
       "</div>"
      ],
      "text/plain": [
       "      movieId                                          title  \\\n",
       "453   527      Schindler's List (1993)                         \n",
       "4108  5952     Lord of the Rings: The Two Towers, The (2002)   \n",
       "2121  2858     American Beauty (1999)                          \n",
       "1711  2329     American History X (1998)                       \n",
       "1480  2028     Saving Private Ryan (1998)                      \n",
       "814   1089     Reservoir Dogs (1992)                           \n",
       "94    110      Braveheart (1995)                               \n",
       "967   1291     Indiana Jones and the Last Crusade (1989)       \n",
       "3114  4226     Memento (2000)                                  \n",
       "7729  91529    Dark Knight Rises, The (2012)                   \n",
       "6973  68157    Inglourious Basterds (2009)                     \n",
       "4147  6016     City of God (Cidade de Deus) (2002)             \n",
       "498   589      Terminator 2: Judgment Day (1991)               \n",
       "1261  1704     Good Will Hunting (1997)                        \n",
       "884   1200     Aliens (1986)                                   \n",
       "895   1214     Alien (1979)                                    \n",
       "0     1        Toy Story (1995)                                \n",
       "8024  99114    Django Unchained (2012)                         \n",
       "4879  7361     Eternal Sunshine of the Spotless Mind (2004)    \n",
       "849   1136     Monty Python and the Holy Grail (1975)          \n",
       "\n",
       "                                           genres  \n",
       "453   Drama|War                                    \n",
       "4108  Adventure|Fantasy                            \n",
       "2121  Drama|Romance                                \n",
       "1711  Crime|Drama                                  \n",
       "1480  Action|Drama|War                             \n",
       "814   Crime|Mystery|Thriller                       \n",
       "94    Action|Drama|War                             \n",
       "967   Action|Adventure                             \n",
       "3114  Mystery|Thriller                             \n",
       "7729  Action|Adventure|Crime|IMAX                  \n",
       "6973  Action|Drama|War                             \n",
       "4147  Action|Adventure|Crime|Drama|Thriller        \n",
       "498   Action|Sci-Fi                                \n",
       "1261  Drama|Romance                                \n",
       "884   Action|Adventure|Horror|Sci-Fi               \n",
       "895   Horror|Sci-Fi                                \n",
       "0     Adventure|Animation|Children|Comedy|Fantasy  \n",
       "8024  Action|Drama|Western                         \n",
       "4879  Drama|Romance|Sci-Fi                         \n",
       "849   Adventure|Comedy|Fantasy                     "
      ]
     },
     "execution_count": 56,
     "metadata": {},
     "output_type": "execute_result"
    }
   ],
   "source": [
    "# Top 20 movies that User 400 hopefully will enjoy\n",
    "predictions"
   ]
  },
  {
   "cell_type": "code",
   "execution_count": 58,
   "metadata": {},
   "outputs": [],
   "source": [
    "#!pip install surprise"
   ]
  },
  {
   "cell_type": "code",
   "execution_count": 98,
   "metadata": {},
   "outputs": [],
   "source": [
    "# Import libraries from Surprise package\n",
    "from surprise import Reader, Dataset, SVD\n",
    "from surprise.model_selection import cross_validate\n",
    "\n",
    "# Load Reader library\n",
    "reader = Reader()\n",
    "\n",
    "# Load ratings dataset with Dataset library\n",
    "data = Dataset.load_from_df(small_data[['userId', 'movieId', 'rating']], reader)\n",
    "\n",
    "# Split the dataset for 5-fold evaluation\n",
    "#data = data.build_full_trainset()\n",
    "#data.split(n_folds=5)"
   ]
  },
  {
   "cell_type": "code",
   "execution_count": 99,
   "metadata": {},
   "outputs": [
    {
     "data": {
      "text/plain": [
       "{'test_rmse': array([0.90807901, 0.93732377, 0.91208012, 0.94544492, 0.92118803]),\n",
       " 'fit_time': (2.058058500289917,\n",
       "  2.1552720069885254,\n",
       "  3.2479970455169678,\n",
       "  2.2957229614257812,\n",
       "  2.807504177093506),\n",
       " 'test_time': (0.047595977783203125,\n",
       "  0.07030057907104492,\n",
       "  0.1133420467376709,\n",
       "  0.058730363845825195,\n",
       "  0.019946575164794922)}"
      ]
     },
     "execution_count": 99,
     "metadata": {},
     "output_type": "execute_result"
    }
   ],
   "source": [
    "# Use the SVD algorithm.\n",
    "svd = SVD()\n",
    "\n",
    "# Compute the RMSE of the SVD algorithm.\n",
    "cross_validate(svd, data, measures=['RMSE'])"
   ]
  },
  {
   "cell_type": "code",
   "execution_count": 97,
   "metadata": {},
   "outputs": [],
   "source": [
    "#trainset = data.build_full_trainset()\n",
    "#svd.train(trainset)"
   ]
  },
  {
   "cell_type": "code",
   "execution_count": 96,
   "metadata": {},
   "outputs": [
    {
     "data": {
      "text/html": [
       "<div>\n",
       "<style scoped>\n",
       "    .dataframe tbody tr th:only-of-type {\n",
       "        vertical-align: middle;\n",
       "    }\n",
       "\n",
       "    .dataframe tbody tr th {\n",
       "        vertical-align: top;\n",
       "    }\n",
       "\n",
       "    .dataframe thead th {\n",
       "        text-align: right;\n",
       "    }\n",
       "</style>\n",
       "<table border=\"1\" class=\"dataframe\">\n",
       "  <thead>\n",
       "    <tr style=\"text-align: right;\">\n",
       "      <th></th>\n",
       "      <th>userId</th>\n",
       "      <th>movieId</th>\n",
       "      <th>rating</th>\n",
       "      <th>timestamp</th>\n",
       "    </tr>\n",
       "  </thead>\n",
       "  <tbody>\n",
       "    <tr>\n",
       "      <td>61156</td>\n",
       "      <td>400</td>\n",
       "      <td>6</td>\n",
       "      <td>5.0</td>\n",
       "      <td>1498870480</td>\n",
       "    </tr>\n",
       "    <tr>\n",
       "      <td>61157</td>\n",
       "      <td>400</td>\n",
       "      <td>47</td>\n",
       "      <td>5.0</td>\n",
       "      <td>1498870391</td>\n",
       "    </tr>\n",
       "    <tr>\n",
       "      <td>61158</td>\n",
       "      <td>400</td>\n",
       "      <td>50</td>\n",
       "      <td>5.0</td>\n",
       "      <td>1498870285</td>\n",
       "    </tr>\n",
       "    <tr>\n",
       "      <td>61159</td>\n",
       "      <td>400</td>\n",
       "      <td>260</td>\n",
       "      <td>5.0</td>\n",
       "      <td>1498870148</td>\n",
       "    </tr>\n",
       "    <tr>\n",
       "      <td>61160</td>\n",
       "      <td>400</td>\n",
       "      <td>293</td>\n",
       "      <td>5.0</td>\n",
       "      <td>1498870424</td>\n",
       "    </tr>\n",
       "  </tbody>\n",
       "</table>\n",
       "</div>"
      ],
      "text/plain": [
       "       userId  movieId  rating   timestamp\n",
       "61156  400     6        5.0     1498870480\n",
       "61157  400     47       5.0     1498870391\n",
       "61158  400     50       5.0     1498870285\n",
       "61159  400     260      5.0     1498870148\n",
       "61160  400     293      5.0     1498870424"
      ]
     },
     "execution_count": 96,
     "metadata": {},
     "output_type": "execute_result"
    }
   ],
   "source": [
    "ratings[ratings['userId'] == 400].head()"
   ]
  },
  {
   "cell_type": "code",
   "execution_count": 90,
   "metadata": {},
   "outputs": [
    {
     "data": {
      "text/plain": [
       "Prediction(uid=400, iid=1994, r_ui=None, est=4.004011476699977, details={'was_impossible': False})"
      ]
     },
     "execution_count": 90,
     "metadata": {},
     "output_type": "execute_result"
    }
   ],
   "source": [
    "svd.predict(400, 1994)"
   ]
  },
  {
   "cell_type": "code",
   "execution_count": 93,
   "metadata": {},
   "outputs": [],
   "source": [
    "#ratings.movieId.unique()"
   ]
  },
  {
   "cell_type": "code",
   "execution_count": 94,
   "metadata": {},
   "outputs": [],
   "source": [
    "#ratings.userId.unique()"
   ]
  },
  {
   "cell_type": "code",
   "execution_count": null,
   "metadata": {},
   "outputs": [],
   "source": []
  }
 ],
 "metadata": {
  "kernelspec": {
   "display_name": "Python 3",
   "language": "python",
   "name": "python3"
  },
  "language_info": {
   "codemirror_mode": {
    "name": "ipython",
    "version": 3
   },
   "file_extension": ".py",
   "mimetype": "text/x-python",
   "name": "python",
   "nbconvert_exporter": "python",
   "pygments_lexer": "ipython3",
   "version": "3.7.3"
  }
 },
 "nbformat": 4,
 "nbformat_minor": 4
}
